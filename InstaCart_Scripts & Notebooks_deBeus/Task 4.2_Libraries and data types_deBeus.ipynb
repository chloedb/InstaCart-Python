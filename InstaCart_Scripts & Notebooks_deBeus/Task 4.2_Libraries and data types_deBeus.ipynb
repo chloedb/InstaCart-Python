{
 "cells": [
  {
   "cell_type": "markdown",
   "id": "b320dd54",
   "metadata": {},
   "source": [
    "# Importing libraries"
   ]
  },
  {
   "cell_type": "code",
   "execution_count": 1,
   "id": "28628f20",
   "metadata": {},
   "outputs": [],
   "source": [
    "#import data libraries\n",
    "import pandas as pd\n",
    "import numpy as np\n",
    "import os"
   ]
  },
  {
   "cell_type": "markdown",
   "id": "770cd6af",
   "metadata": {},
   "source": [
    "# Data types"
   ]
  },
  {
   "cell_type": "code",
   "execution_count": 4,
   "id": "844cff4e",
   "metadata": {},
   "outputs": [
    {
     "name": "stdout",
     "output_type": "stream",
     "text": [
      "100\n"
     ]
    }
   ],
   "source": [
    "a = 50 + 50\n",
    "print(a)"
   ]
  },
  {
   "cell_type": "code",
   "execution_count": 5,
   "id": "53d9aaad",
   "metadata": {},
   "outputs": [
    {
     "name": "stdout",
     "output_type": "stream",
     "text": [
      "100\n"
     ]
    }
   ],
   "source": [
    "b = 10 * 10\n",
    "print(b)"
   ]
  },
  {
   "cell_type": "code",
   "execution_count": 7,
   "id": "e0cabf1f",
   "metadata": {},
   "outputs": [
    {
     "name": "stdout",
     "output_type": "stream",
     "text": [
      "100.0\n"
     ]
    }
   ],
   "source": [
    "c = 100 / 1\n",
    "print(c)"
   ]
  },
  {
   "cell_type": "code",
   "execution_count": 9,
   "id": "d951a486",
   "metadata": {},
   "outputs": [
    {
     "data": {
      "text/plain": [
       "0.7928571428571429"
      ]
     },
     "execution_count": 9,
     "metadata": {},
     "output_type": "execute_result"
    }
   ],
   "source": [
    "d = 4.44\n",
    "e = 5.6\n",
    "d / e"
   ]
  },
  {
   "cell_type": "code",
   "execution_count": 12,
   "id": "e950cdc4",
   "metadata": {},
   "outputs": [
    {
     "data": {
      "text/plain": [
       "4.5540540540540535"
      ]
     },
     "execution_count": 12,
     "metadata": {},
     "output_type": "execute_result"
    }
   ],
   "source": [
    "f = 5.055\n",
    "g = 1.11\n",
    "f / g"
   ]
  },
  {
   "cell_type": "code",
   "execution_count": 13,
   "id": "e0aa37ae",
   "metadata": {},
   "outputs": [
    {
     "data": {
      "text/plain": [
       "'library'"
      ]
     },
     "execution_count": 13,
     "metadata": {},
     "output_type": "execute_result"
    }
   ],
   "source": [
    "h = 'li'\n",
    "i = 'br'\n",
    "j = 'ary'\n",
    "h + i + j"
   ]
  },
  {
   "cell_type": "code",
   "execution_count": 15,
   "id": "6191058f",
   "metadata": {},
   "outputs": [
    {
     "data": {
      "text/plain": [
       "'I love data'"
      ]
     },
     "execution_count": 15,
     "metadata": {},
     "output_type": "execute_result"
    }
   ],
   "source": [
    "k = 'I love '\n",
    "l = 'data'\n",
    "k + l"
   ]
  },
  {
   "cell_type": "code",
   "execution_count": 18,
   "id": "db394b72",
   "metadata": {},
   "outputs": [
    {
     "data": {
      "text/plain": [
       "'Do not forgetthe space at the endof the string'"
      ]
     },
     "execution_count": 18,
     "metadata": {},
     "output_type": "execute_result"
    }
   ],
   "source": [
    "m = 'Do not forget'\n",
    "n = 'the space at the end'\n",
    "o = 'of the string'\n",
    "m + n + o\n",
    "#purposefully forgotten for the humor of it!"
   ]
  },
  {
   "cell_type": "code",
   "execution_count": null,
   "id": "9c74fa6d",
   "metadata": {},
   "outputs": [],
   "source": []
  }
 ],
 "metadata": {
  "kernelspec": {
   "display_name": "Python 3 (ipykernel)",
   "language": "python",
   "name": "python3"
  },
  "language_info": {
   "codemirror_mode": {
    "name": "ipython",
    "version": 3
   },
   "file_extension": ".py",
   "mimetype": "text/x-python",
   "name": "python",
   "nbconvert_exporter": "python",
   "pygments_lexer": "ipython3",
   "version": "3.10.9"
  }
 },
 "nbformat": 4,
 "nbformat_minor": 5
}
