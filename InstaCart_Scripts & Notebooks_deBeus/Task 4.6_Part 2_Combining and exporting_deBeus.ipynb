{
 "cells": [
  {
   "cell_type": "markdown",
   "id": "3270b54b",
   "metadata": {},
   "source": [
    "# Chloe deBeus\n",
    "## Task 4.6 - Combining and exporting"
   ]
  },
  {
   "cell_type": "markdown",
   "id": "9d22e7b5",
   "metadata": {},
   "source": [
    "## Importing libraries"
   ]
  },
  {
   "cell_type": "code",
   "execution_count": 1,
   "id": "e0be1750",
   "metadata": {},
   "outputs": [],
   "source": [
    "import pandas as pd\n",
    "import numpy as np\n",
    "import os"
   ]
  },
  {
   "cell_type": "markdown",
   "id": "f074b3ea",
   "metadata": {},
   "source": [
    "### Step One and Step Two\n",
    "#### orders_products_prior.csv merged with orders.csv and exported through pickle format as 'orders_products_combined.'"
   ]
  },
  {
   "cell_type": "markdown",
   "id": "5868e6c9",
   "metadata": {},
   "source": [
    "### Step Three"
   ]
  },
  {
   "cell_type": "code",
   "execution_count": 36,
   "id": "c7c52c95",
   "metadata": {},
   "outputs": [],
   "source": [
    "mainPath = r'C:\\Users\\18286\\Documents\\Career Foundry\\05_2023_Instacart Basket Analysis'\n",
    "#make sure to use the pkl file call\n",
    "all_prior_orders = pd.read_pickle(os.path.join(mainPath, '02 Datasets', 'Clean data', 'orders_products_combined.pkl'))\n",
    "products_clean = pd.read_csv(os.path.join(mainPath, '02 Datasets', 'Clean data', 'products_wrangled.csv'), index_col = False)"
   ]
  },
  {
   "cell_type": "code",
   "execution_count": 37,
   "id": "7ea8c0b9",
   "metadata": {},
   "outputs": [
    {
     "data": {
      "text/plain": [
       "Unnamed: 0         int64\n",
       "product_id         int64\n",
       "product_name      object\n",
       "aisle_id           int64\n",
       "department_id      int64\n",
       "prices           float64\n",
       "dtype: object"
      ]
     },
     "execution_count": 37,
     "metadata": {},
     "output_type": "execute_result"
    }
   ],
   "source": [
    "products_clean.dtypes"
   ]
  },
  {
   "cell_type": "code",
   "execution_count": 38,
   "id": "994b804b",
   "metadata": {},
   "outputs": [
    {
     "data": {
      "text/plain": [
       "Unnamed: 0                   int64\n",
       "order_id                     int32\n",
       "user_id                      int32\n",
       "order_number                  int8\n",
       "orders_day_of_week            int8\n",
       "order_time_of_day             int8\n",
       "days_since_prior_order     float16\n",
       "new_customer                 int64\n",
       "product_id                 float64\n",
       "add_to_cart_order          float64\n",
       "reordered                  float64\n",
       "_merge                    category\n",
       "dtype: object"
      ]
     },
     "execution_count": 38,
     "metadata": {},
     "output_type": "execute_result"
    }
   ],
   "source": [
    "all_prior_orders.dtypes"
   ]
  },
  {
   "cell_type": "code",
   "execution_count": 14,
   "id": "a20bb9cd",
   "metadata": {},
   "outputs": [
    {
     "data": {
      "text/plain": [
       "0             196.0\n",
       "1           14084.0\n",
       "2           12427.0\n",
       "3           26088.0\n",
       "4           26405.0\n",
       "             ...   \n",
       "32640693    38730.0\n",
       "32640694    31477.0\n",
       "32640695     6567.0\n",
       "32640696    22920.0\n",
       "32640697        NaN\n",
       "Name: product_id, Length: 32640698, dtype: float64"
      ]
     },
     "execution_count": 14,
     "metadata": {},
     "output_type": "execute_result"
    }
   ],
   "source": [
    "all_prior_orders['product_id']"
   ]
  },
  {
   "cell_type": "code",
   "execution_count": 76,
   "id": "1eca5f85",
   "metadata": {},
   "outputs": [
    {
     "data": {
      "text/plain": [
       "Unnamed: 0                                              0\n",
       "order_id                                                0\n",
       "user_id                                                 0\n",
       "order_number                                            0\n",
       "orders_day_of_week                                      0\n",
       "order_time_of_day                                       0\n",
       "days_since_prior_order                                  0\n",
       "new_customer                                            0\n",
       "product_id                                              0\n",
       "add_to_cart_order                                       0\n",
       "reordered                                               0\n",
       "_merge                                                  0\n",
       "(product_id, reordered, add_to_cart_order, order_id)    0\n",
       "dtype: int64"
      ]
     },
     "execution_count": 76,
     "metadata": {},
     "output_type": "execute_result"
    }
   ],
   "source": [
    "#need to clean up all_prior_orders first because there are missing values\n",
    "all_missing = all_prior_orders.isnull()\n",
    "all_missing_count = all_missing.sum()\n",
    "all_missing_count\n",
    "#there are this many missing product ID's. since i am not fully certain of the dataframe yet\n",
    "#I'm going to make them Zero\n",
    "#So I can change the floats to int"
   ]
  },
  {
   "cell_type": "code",
   "execution_count": 71,
   "id": "87aecdaf",
   "metadata": {},
   "outputs": [
    {
     "data": {
      "text/plain": [
       "Unnamed: 0                                                 int64\n",
       "order_id                                                   int32\n",
       "user_id                                                    int32\n",
       "order_number                                                int8\n",
       "orders_day_of_week                                          int8\n",
       "order_time_of_day                                           int8\n",
       "days_since_prior_order                                     int32\n",
       "new_customer                                               int64\n",
       "product_id                                                 int32\n",
       "add_to_cart_order                                          int32\n",
       "reordered                                                  int32\n",
       "_merge                                                  category\n",
       "(product_id, reordered, add_to_cart_order, order_id)       int32\n",
       "dtype: object"
      ]
     },
     "execution_count": 71,
     "metadata": {},
     "output_type": "execute_result"
    }
   ],
   "source": [
    "#i need to change these data types and fill the na spots\n",
    "#or else the data files won't merge\n",
    "#they weren't working all at once, so i broke them down\n",
    "all_prior_orders['product_id'] = all_prior_orders['product_id'].fillna(0)\n",
    "all_prior_orders['product_id'] = all_prior_orders['product_id'].astype('int32')\n",
    "#days_since_prior_order\n",
    "all_prior_orders['days_since_prior_order'] = all_prior_orders['days_since_prior_order'].fillna(0)\n",
    "all_prior_orders['days_since_prior_order'] = all_prior_orders['days_since_prior_order'].astype('int32')\n",
    "#add_to_cart_order\n",
    "all_prior_orders['add_to_cart_order'] = all_prior_orders['add_to_cart_order'].fillna(0)\n",
    "all_prior_orders['add_to_cart_order'] = all_prior_orders['add_to_cart_order'].astype('int32')\n",
    "#reordered\n",
    "all_prior_orders['reordered'] = all_prior_orders['reordered'].fillna(0)\n",
    "all_prior_orders['reordered'] = all_prior_orders['reordered'].astype('int32')\n",
    "\n",
    "all_prior_orders.dtypes"
   ]
  },
  {
   "cell_type": "code",
   "execution_count": 78,
   "id": "571378a7",
   "metadata": {},
   "outputs": [
    {
     "data": {
      "text/plain": [
       "Unnamed: 0                                              0\n",
       "order_id                                                0\n",
       "user_id                                                 0\n",
       "order_number                                            0\n",
       "orders_day_of_week                                      0\n",
       "order_time_of_day                                       0\n",
       "days_since_prior_order                                  0\n",
       "new_customer                                            0\n",
       "product_id                                              0\n",
       "add_to_cart_order                                       0\n",
       "reordered                                               0\n",
       "_merge                                                  0\n",
       "(product_id, reordered, add_to_cart_order, order_id)    0\n",
       "dtype: int64"
      ]
     },
     "execution_count": 78,
     "metadata": {},
     "output_type": "execute_result"
    }
   ],
   "source": [
    "#recalling to see if they have effectively been updated with no NA values\n",
    "all_missing_count"
   ]
  },
  {
   "cell_type": "markdown",
   "id": "76b9d59f",
   "metadata": {},
   "source": [
    "### Step Four - Check the shape of import"
   ]
  },
  {
   "cell_type": "code",
   "execution_count": 72,
   "id": "cfb66887",
   "metadata": {},
   "outputs": [
    {
     "data": {
      "text/plain": [
       "(32640698, 13)"
      ]
     },
     "execution_count": 72,
     "metadata": {},
     "output_type": "execute_result"
    }
   ],
   "source": [
    "all_prior_orders.shape"
   ]
  },
  {
   "cell_type": "markdown",
   "id": "f8ae7386",
   "metadata": {},
   "source": [
    "### Step Five - Merge"
   ]
  },
  {
   "cell_type": "code",
   "execution_count": 74,
   "id": "a439cdd1",
   "metadata": {},
   "outputs": [],
   "source": [
    "full_prior_orders = all_prior_orders.merge(products_clean, on = 'product_id', how = 'inner')"
   ]
  },
  {
   "cell_type": "markdown",
   "id": "d1eed8b6",
   "metadata": {},
   "source": [
    "### Step Six - Confirm Merge"
   ]
  },
  {
   "cell_type": "code",
   "execution_count": 79,
   "id": "25382abf",
   "metadata": {},
   "outputs": [
    {
     "data": {
      "text/plain": [
       "both          32404859\n",
       "left_only            0\n",
       "right_only           0\n",
       "Name: _merge, dtype: int64"
      ]
     },
     "execution_count": 79,
     "metadata": {},
     "output_type": "execute_result"
    }
   ],
   "source": [
    "full_prior_orders['_merge'].value_counts(dropna = False)"
   ]
  },
  {
   "cell_type": "markdown",
   "id": "d6a6cd1e",
   "metadata": {},
   "source": [
    "### Step Seven - Export"
   ]
  },
  {
   "cell_type": "code",
   "execution_count": 82,
   "id": "fe59f0e1",
   "metadata": {},
   "outputs": [],
   "source": [
    "full_prior_orders.to_pickle(os.path.join(mainPath, '02 Datasets','Clean Data', 'orders_products_merged.pkl'))"
   ]
  }
 ],
 "metadata": {
  "kernelspec": {
   "display_name": "Python 3 (ipykernel)",
   "language": "python",
   "name": "python3"
  },
  "language_info": {
   "codemirror_mode": {
    "name": "ipython",
    "version": 3
   },
   "file_extension": ".py",
   "mimetype": "text/x-python",
   "name": "python",
   "nbconvert_exporter": "python",
   "pygments_lexer": "ipython3",
   "version": "3.10.9"
  }
 },
 "nbformat": 4,
 "nbformat_minor": 5
}
